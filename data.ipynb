{
 "cells": [
  {
   "cell_type": "code",
   "execution_count": 1,
   "metadata": {},
   "outputs": [],
   "source": [
    "import pandas as pd\n",
    "import numpy as np\n",
    "import matplotlib.pyplot as plt\n",
    "file_root = '/home/junyi/data/beta/' # change this to your own path"
   ]
  },
  {
   "cell_type": "code",
   "execution_count": null,
   "metadata": {},
   "outputs": [],
   "source": [
    "data = np.load('/home/junyi/data/beta/MOTION_NEW_TIME.npy')\n",
    "print(data.shape)\n",
    "data = pd.DataFrame(data)\n",
    "data.columns = ['time', 'x', 'y', 'l', 'w', 'h', 'class', 'id']"
   ]
  },
  {
   "cell_type": "code",
   "execution_count": null,
   "metadata": {},
   "outputs": [],
   "source": [
    "# plot the distribution of y in the dataset\n",
    "plt.rcParams.update({'font.size': 50})\n",
    "plt.figure(figsize=(20, 10))\n",
    "plt.hist(data['y'], bins=100)\n",
    "# make the font type to be serif\n",
    "plt.rcParams.update({'font.family': 'serif'}) \n",
    "# sans-serif\n",
    "# plt.rcParams.update({'font.family': 'sans-serif'})\n",
    "plt.axvline(-12, color='red', linestyle='--', lw=5)\n",
    "plt.axvline(-24, color='red', linestyle='--', lw=5)\n",
    "plt.axvline(-36, color='red', linestyle='--', lw=5)\n",
    "plt.axvline(-48, color='red', linestyle='--', lw=5)\n",
    "plt.axvline(-60, color='red', linestyle='--', lw=5)\n",
    "plt.text(-20, 2.5*1e6, 'lane 1', color='red', fontsize=22)\n",
    "plt.text(-32, 2.5*1e6, 'lane 2', color='red', fontsize=22)\n",
    "plt.text(-44, 2.5*1e6, 'lane 3', color='red', fontsize=22)\n",
    "plt.text(-56, 2.5*1e6, 'lane 4', color='red', fontsize=22)\n",
    "plt.xlabel('y')\n",
    "plt.ylabel('count')\n",
    "plt.title('Distribution of y')\n",
    "plt.savefig('results/y_distribution.pdf')\n",
    "plt.show()"
   ]
  },
  {
   "cell_type": "code",
   "execution_count": null,
   "metadata": {},
   "outputs": [],
   "source": [
    "# lalel the lane based on the y value (lateral position)\n",
    "lane = lambda x: 0 if x > -12 else 1 if x > -24 else 2 if x > -36 else 3 if x > -48 else 4 if x > -60 else 5\n",
    "data['lane'] = data['y'].apply(lane)\n",
    "print(data['lane'].value_counts())"
   ]
  },
  {
   "cell_type": "code",
   "execution_count": null,
   "metadata": {},
   "outputs": [],
   "source": []
  },
  {
   "cell_type": "code",
   "execution_count": null,
   "metadata": {},
   "outputs": [],
   "source": [
    "for lane_number in range(1,5):\n",
    "    lane = data[data['lane'] == lane_number]\n",
    "    plt.figure(figsize=(40, 20))\n",
    "    # group by id and plot the trajectory of each vehicle every 10 plot one\n",
    "    for i, (id, group) in enumerate(lane.groupby('id')):\n",
    "        if i % 1 == 0:\n",
    "            plt.plot(group['time'], 4 - group['x']/5280)\n",
    "    plt.xlabel('time (s)')\n",
    "    plt.ylabel('x (mile)')\n",
    "    # flip the y axis\n",
    "    # plt.gca().invert_yaxis()\n",
    "    plt.title(f'Trajectories from I24V-beta at lane {lane_number}')\n",
    "    plt.grid('on', linestyle='--', lw=2)\n",
    "    plt.xlim(0, 3600)\n",
    "    plt.ylim(0, 3.5)\n",
    "    plt.savefig(f'results/lane_{lane_number}.pdf', bbox_inches='tight', dpi=300)\n",
    "    plt.show()"
   ]
  },
  {
   "cell_type": "code",
   "execution_count": null,
   "metadata": {},
   "outputs": [],
   "source": [
    "data = np.load('/home/junyi/data/beta/MOTION_OLD_TIME.npy')\n",
    "print(data.shape)\n",
    "data = pd.DataFrame(data)\n",
    "data.columns = ['time', 'x', 'y', 'l', 'w', 'h', 'class', 'id']\n",
    "# # plot the distribution of y in the dataset\n",
    "plt.rcParams.update({'font.size': 50})\n",
    "# plt.figure(figsize=(20, 10))\n",
    "# plt.hist(data['y'], bins=100)\n",
    "# # make the font type to be serif\n",
    "# plt.rcParams.update({'font.family': 'serif'}) \n",
    "# # sans-serif\n",
    "# # plt.rcParams.update({'font.family': 'sans-serif'})\n",
    "# plt.axvline(-12, color='red', linestyle='--', lw=5)\n",
    "# plt.axvline(-24, color='red', linestyle='--', lw=5)\n",
    "# plt.axvline(-36, color='red', linestyle='--', lw=5)\n",
    "# plt.axvline(-48, color='red', linestyle='--', lw=5)\n",
    "# plt.axvline(-60, color='red', linestyle='--', lw=5)\n",
    "# plt.text(-20, 2.5*1e6, 'lane 1', color='red', fontsize=22)\n",
    "# plt.text(-32, 2.5*1e6, 'lane 2', color='red', fontsize=22)\n",
    "# plt.text(-44, 2.5*1e6, 'lane 3', color='red', fontsize=22)\n",
    "# plt.text(-56, 2.5*1e6, 'lane 4', color='red', fontsize=22)\n",
    "# plt.xlabel('y')\n",
    "# plt.ylabel('count')\n",
    "# plt.title('Distribution of y')\n",
    "# plt.savefig('old_results/y_distribution.pdf')\n",
    "# plt.show()\n",
    "# lalel the lane based on the y value (lateral position)\n",
    "lane = lambda x: 0 if x > -12 else 1 if x > -24 else 2 if x > -36 else 3 if x > -48 else 4 if x > -60 else 5\n",
    "data['lane'] = data['y'].apply(lane)\n",
    "print(data['lane'].value_counts())\n",
    "for lane_number in range(1,5):\n",
    "    lane = data[data['lane'] == lane_number]\n",
    "    plt.figure(figsize=(40, 20))\n",
    "    # group by id and plot the trajectory of each vehicle every 10 plot one\n",
    "    for i, (id, group) in enumerate(lane.groupby('id')):\n",
    "        if i % 1 == 0:\n",
    "            plt.plot(group['time'], 4 - group['x']/5280)\n",
    "    plt.xlabel('time (s)')\n",
    "    plt.ylabel('x (mile)')\n",
    "    # flip the y axis\n",
    "    # plt.gca().invert_yaxis()\n",
    "    plt.title(f'Trajectories from I24V-alpha at lane {lane_number}')\n",
    "    plt.grid('on', linestyle='--', lw=2)\n",
    "    plt.xlim(0, 3600)\n",
    "    plt.ylim(0, 3.5)\n",
    "    plt.savefig(f'old_results/lane_{lane_number}.pdf', bbox_inches='tight', dpi=300)\n",
    "    plt.show()"
   ]
  },
  {
   "cell_type": "code",
   "execution_count": null,
   "metadata": {},
   "outputs": [],
   "source": []
  }
 ],
 "metadata": {
  "kernelspec": {
   "display_name": "beta",
   "language": "python",
   "name": "python3"
  },
  "language_info": {
   "codemirror_mode": {
    "name": "ipython",
    "version": 3
   },
   "file_extension": ".py",
   "mimetype": "text/x-python",
   "name": "python",
   "nbconvert_exporter": "python",
   "pygments_lexer": "ipython3",
   "version": "3.11.11"
  }
 },
 "nbformat": 4,
 "nbformat_minor": 2
}
